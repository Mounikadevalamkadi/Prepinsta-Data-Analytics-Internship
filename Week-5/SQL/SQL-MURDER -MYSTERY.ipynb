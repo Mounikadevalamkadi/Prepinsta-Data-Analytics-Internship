{
 "cells": [
  {
   "cell_type": "code",
   "execution_count": 1,
   "id": "be675680",
   "metadata": {},
   "outputs": [],
   "source": [
    "import pandas as pd\n",
    "import sqlite3 as sql"
   ]
  },
  {
   "cell_type": "code",
   "execution_count": 2,
   "id": "d4545369",
   "metadata": {},
   "outputs": [],
   "source": [
    "conn = sql.connect(\"C:\\sql-murder-mystery.db\")"
   ]
  },
  {
   "cell_type": "code",
   "execution_count": 3,
   "id": "5d58c864",
   "metadata": {},
   "outputs": [
    {
     "data": {
      "text/plain": [
       "<sqlite3.Connection at 0x1e3195bd990>"
      ]
     },
     "execution_count": 3,
     "metadata": {},
     "output_type": "execute_result"
    }
   ],
   "source": [
    "conn"
   ]
  },
  {
   "cell_type": "markdown",
   "id": "0909109c",
   "metadata": {},
   "source": [
    "Query 1:\n",
    "    Retrive crime scene report"
   ]
  },
  {
   "cell_type": "code",
   "execution_count": 6,
   "id": "0a5b2fa6",
   "metadata": {},
   "outputs": [
    {
     "name": "stdout",
     "output_type": "stream",
     "text": [
      "       date     type                                        description  \\\n",
      "0  20170712    theft  A lone hunter stalks the night, firing arrows ...   \n",
      "1  20170820    arson  Wield the Hammer of Sol with honor, Titan, it ...   \n",
      "2  20171110  robbery  The Gjallarhorn shoulder-mounted rocket system...   \n",
      "3  20180103  bribery  Apparently, Cayde thought it necessary to expo...   \n",
      "4  20180115  assault  Hamilton: Lee, do you yield? Burr: You shot hi...   \n",
      "5  20180115  assault                                   Report Not Found   \n",
      "6  20180115   murder  Security footage shows that there were 2 witne...   \n",
      "7  20180215   murder                         REDACTED REDACTED REDACTED   \n",
      "8  20180215   murder  Someone killed the guard! He took an arrow to ...   \n",
      "\n",
      "       city  \n",
      "0  SQL City  \n",
      "1  SQL City  \n",
      "2  SQL City  \n",
      "3  SQL City  \n",
      "4  SQL City  \n",
      "5  SQL City  \n",
      "6  SQL City  \n",
      "7  SQL City  \n",
      "8  SQL City  \n"
     ]
    }
   ],
   "source": [
    "# running our first query, looking for data from the crime scene report\n",
    "query_1 = '''\n",
    "SELECT *\n",
    "FROM crime_scene_report\n",
    "WHERE city = \"SQL City\"\n",
    "ORDER BY date;\n",
    "'''\n",
    "\n",
    "# setting the dataframe width to max columns\n",
    "pd.set_option('display.max_columns', None)\n",
    "\n",
    "# running our query and displaying the results in a DataFrame\n",
    "df = pd.read_sql_query(query_1, conn)\n",
    "print(df)\n"
   ]
  },
  {
   "cell_type": "markdown",
   "id": "855c88ae",
   "metadata": {},
   "source": [
    "Murder occured on 15th Jan-2018, Security footage shows that there were 2 witnesses\n",
    "\n",
    "Witness 1: lives on last house on \"Northwestern Dr\"\n",
    "Witness 2: lives on Somewhere on \"Franklin Ave\" Name= \"Annabel\""
   ]
  },
  {
   "cell_type": "markdown",
   "id": "22aeb920",
   "metadata": {},
   "source": [
    "Query 2: Witness personal Details"
   ]
  },
  {
   "cell_type": "code",
   "execution_count": 7,
   "id": "64d2abad",
   "metadata": {},
   "outputs": [
    {
     "name": "stdout",
     "output_type": "stream",
     "text": [
      "      id            name  license_id  address_number address_street_name  \\\n",
      "0  14887  Morty Schapiro      118009            4919     Northwestern Dr   \n",
      "\n",
      "         ssn  \n",
      "0  111564949  \n"
     ]
    }
   ],
   "source": [
    "# checking personal details of both witnesses\n",
    "query_2 = '''\n",
    "SELECT *\n",
    "FROM person\n",
    "WHERE address_street_name = \"Northwestern Dr\"\n",
    "ORDER BY address_number DESC\n",
    "LIMIT 1;\n",
    "'''\n",
    "\n",
    "# running the query and displaying the result for the first row\n",
    "witness_details = pd.read_sql_query(query_2, conn)\n",
    "print(witness_details)\n"
   ]
  },
  {
   "cell_type": "markdown",
   "id": "3d5a2cc1",
   "metadata": {},
   "source": [
    "First Witness Name = \"Morty Schapiro\""
   ]
  },
  {
   "cell_type": "code",
   "execution_count": 8,
   "id": "07810256",
   "metadata": {},
   "outputs": [
    {
     "data": {
      "text/html": [
       "<div>\n",
       "<style scoped>\n",
       "    .dataframe tbody tr th:only-of-type {\n",
       "        vertical-align: middle;\n",
       "    }\n",
       "\n",
       "    .dataframe tbody tr th {\n",
       "        vertical-align: top;\n",
       "    }\n",
       "\n",
       "    .dataframe thead th {\n",
       "        text-align: right;\n",
       "    }\n",
       "</style>\n",
       "<table border=\"1\" class=\"dataframe\">\n",
       "  <thead>\n",
       "    <tr style=\"text-align: right;\">\n",
       "      <th></th>\n",
       "      <th>id</th>\n",
       "      <th>name</th>\n",
       "      <th>license_id</th>\n",
       "      <th>address_number</th>\n",
       "      <th>address_street_name</th>\n",
       "      <th>ssn</th>\n",
       "    </tr>\n",
       "  </thead>\n",
       "  <tbody>\n",
       "    <tr>\n",
       "      <th>0</th>\n",
       "      <td>16371</td>\n",
       "      <td>Annabel Miller</td>\n",
       "      <td>490173</td>\n",
       "      <td>103</td>\n",
       "      <td>Franklin Ave</td>\n",
       "      <td>318771143</td>\n",
       "    </tr>\n",
       "  </tbody>\n",
       "</table>\n",
       "</div>"
      ],
      "text/plain": [
       "      id            name  license_id  address_number address_street_name  \\\n",
       "0  16371  Annabel Miller      490173             103        Franklin Ave   \n",
       "\n",
       "         ssn  \n",
       "0  318771143  "
      ]
     },
     "execution_count": 8,
     "metadata": {},
     "output_type": "execute_result"
    }
   ],
   "source": [
    "Q2_2 = '''\n",
    "SELECT *\n",
    "FROM person\n",
    "WHERE address_street_name = 'Franklin Ave'\n",
    "AND name LIKE '%Annabel%';\n",
    "'''\n",
    "pd.read_sql_query(Q2_2,conn)"
   ]
  },
  {
   "cell_type": "markdown",
   "id": "f2a52e76",
   "metadata": {},
   "source": [
    "Second Witness Name: \"Annabel Miller\""
   ]
  },
  {
   "cell_type": "markdown",
   "id": "596233a4",
   "metadata": {},
   "source": [
    "Query 3: View witness Interviews"
   ]
  },
  {
   "cell_type": "code",
   "execution_count": 10,
   "id": "0ec684cf",
   "metadata": {},
   "outputs": [
    {
     "data": {
      "text/html": [
       "<div>\n",
       "<style scoped>\n",
       "    .dataframe tbody tr th:only-of-type {\n",
       "        vertical-align: middle;\n",
       "    }\n",
       "\n",
       "    .dataframe tbody tr th {\n",
       "        vertical-align: top;\n",
       "    }\n",
       "\n",
       "    .dataframe thead th {\n",
       "        text-align: right;\n",
       "    }\n",
       "</style>\n",
       "<table border=\"1\" class=\"dataframe\">\n",
       "  <thead>\n",
       "    <tr style=\"text-align: right;\">\n",
       "      <th></th>\n",
       "      <th>person_id</th>\n",
       "      <th>transcript</th>\n",
       "    </tr>\n",
       "  </thead>\n",
       "  <tbody>\n",
       "    <tr>\n",
       "      <th>0</th>\n",
       "      <td>14887</td>\n",
       "      <td>I heard a gunshot and then saw a man run out. ...</td>\n",
       "    </tr>\n",
       "    <tr>\n",
       "      <th>1</th>\n",
       "      <td>16371</td>\n",
       "      <td>I saw the murder happen, and I recognized the ...</td>\n",
       "    </tr>\n",
       "  </tbody>\n",
       "</table>\n",
       "</div>"
      ],
      "text/plain": [
       "   person_id                                         transcript\n",
       "0      14887  I heard a gunshot and then saw a man run out. ...\n",
       "1      16371  I saw the murder happen, and I recognized the ..."
      ]
     },
     "execution_count": 10,
     "metadata": {},
     "output_type": "execute_result"
    }
   ],
   "source": [
    "Query_3 = '''\n",
    "SELECT *\n",
    "FROM interview\n",
    "WHERE person_id IN (14887,16371);\n",
    "'''\n",
    "pd.read_sql_query(Query_3, conn)"
   ]
  },
  {
   "cell_type": "markdown",
   "id": "e37d8774",
   "metadata": {},
   "source": [
    "Clues:\n",
    "1.Member of Get Fit Now Gym\n",
    "2.Membership status = 'Gold'\n",
    "3.Car plate includes 'H42W'"
   ]
  },
  {
   "cell_type": "markdown",
   "id": "703bbed9",
   "metadata": {},
   "source": [
    "Query 4: Check Gym Database"
   ]
  },
  {
   "cell_type": "code",
   "execution_count": 11,
   "id": "ea60cb00",
   "metadata": {},
   "outputs": [
    {
     "data": {
      "text/html": [
       "<div>\n",
       "<style scoped>\n",
       "    .dataframe tbody tr th:only-of-type {\n",
       "        vertical-align: middle;\n",
       "    }\n",
       "\n",
       "    .dataframe tbody tr th {\n",
       "        vertical-align: top;\n",
       "    }\n",
       "\n",
       "    .dataframe thead th {\n",
       "        text-align: right;\n",
       "    }\n",
       "</style>\n",
       "<table border=\"1\" class=\"dataframe\">\n",
       "  <thead>\n",
       "    <tr style=\"text-align: right;\">\n",
       "      <th></th>\n",
       "      <th>id</th>\n",
       "      <th>person_id</th>\n",
       "      <th>name</th>\n",
       "      <th>membership_start_date</th>\n",
       "      <th>membership_status</th>\n",
       "    </tr>\n",
       "  </thead>\n",
       "  <tbody>\n",
       "    <tr>\n",
       "      <th>0</th>\n",
       "      <td>48Z7A</td>\n",
       "      <td>28819</td>\n",
       "      <td>Joe Germuska</td>\n",
       "      <td>20160305</td>\n",
       "      <td>gold</td>\n",
       "    </tr>\n",
       "    <tr>\n",
       "      <th>1</th>\n",
       "      <td>48Z55</td>\n",
       "      <td>67318</td>\n",
       "      <td>Jeremy Bowers</td>\n",
       "      <td>20160101</td>\n",
       "      <td>gold</td>\n",
       "    </tr>\n",
       "  </tbody>\n",
       "</table>\n",
       "</div>"
      ],
      "text/plain": [
       "      id  person_id           name  membership_start_date membership_status\n",
       "0  48Z7A      28819   Joe Germuska               20160305              gold\n",
       "1  48Z55      67318  Jeremy Bowers               20160101              gold"
      ]
     },
     "execution_count": 11,
     "metadata": {},
     "output_type": "execute_result"
    }
   ],
   "source": [
    "Query_4_1 = '''\n",
    "SELECT *\n",
    "FROM  get_fit_now_member\n",
    "WHERE id LIKE '48Z%' AND membership_status = 'gold';\n",
    "'''\n",
    "pd.read_sql_query(Query_4_1,conn)"
   ]
  },
  {
   "cell_type": "markdown",
   "id": "0331a660",
   "metadata": {},
   "source": [
    "Discovered two people who have the hints mentioned below"
   ]
  },
  {
   "cell_type": "markdown",
   "id": "72098741",
   "metadata": {},
   "source": [
    "Query 5: Check Car details"
   ]
  },
  {
   "cell_type": "code",
   "execution_count": 13,
   "id": "903aed0d",
   "metadata": {},
   "outputs": [
    {
     "data": {
      "text/html": [
       "<div>\n",
       "<style scoped>\n",
       "    .dataframe tbody tr th:only-of-type {\n",
       "        vertical-align: middle;\n",
       "    }\n",
       "\n",
       "    .dataframe tbody tr th {\n",
       "        vertical-align: top;\n",
       "    }\n",
       "\n",
       "    .dataframe thead th {\n",
       "        text-align: right;\n",
       "    }\n",
       "</style>\n",
       "<table border=\"1\" class=\"dataframe\">\n",
       "  <thead>\n",
       "    <tr style=\"text-align: right;\">\n",
       "      <th></th>\n",
       "      <th>id</th>\n",
       "      <th>age</th>\n",
       "      <th>height</th>\n",
       "      <th>eye_color</th>\n",
       "      <th>hair_color</th>\n",
       "      <th>gender</th>\n",
       "      <th>plate_number</th>\n",
       "      <th>car_make</th>\n",
       "      <th>car_model</th>\n",
       "    </tr>\n",
       "  </thead>\n",
       "  <tbody>\n",
       "    <tr>\n",
       "      <th>0</th>\n",
       "      <td>183779</td>\n",
       "      <td>21</td>\n",
       "      <td>65</td>\n",
       "      <td>blue</td>\n",
       "      <td>blonde</td>\n",
       "      <td>female</td>\n",
       "      <td>H42W0X</td>\n",
       "      <td>Toyota</td>\n",
       "      <td>Prius</td>\n",
       "    </tr>\n",
       "    <tr>\n",
       "      <th>1</th>\n",
       "      <td>423327</td>\n",
       "      <td>30</td>\n",
       "      <td>70</td>\n",
       "      <td>brown</td>\n",
       "      <td>brown</td>\n",
       "      <td>male</td>\n",
       "      <td>0H42W2</td>\n",
       "      <td>Chevrolet</td>\n",
       "      <td>Spark LS</td>\n",
       "    </tr>\n",
       "    <tr>\n",
       "      <th>2</th>\n",
       "      <td>664760</td>\n",
       "      <td>21</td>\n",
       "      <td>71</td>\n",
       "      <td>black</td>\n",
       "      <td>black</td>\n",
       "      <td>male</td>\n",
       "      <td>4H42WR</td>\n",
       "      <td>Nissan</td>\n",
       "      <td>Altima</td>\n",
       "    </tr>\n",
       "  </tbody>\n",
       "</table>\n",
       "</div>"
      ],
      "text/plain": [
       "       id  age  height eye_color hair_color  gender plate_number   car_make  \\\n",
       "0  183779   21      65      blue     blonde  female       H42W0X     Toyota   \n",
       "1  423327   30      70     brown      brown    male       0H42W2  Chevrolet   \n",
       "2  664760   21      71     black      black    male       4H42WR     Nissan   \n",
       "\n",
       "  car_model  \n",
       "0     Prius  \n",
       "1  Spark LS  \n",
       "2    Altima  "
      ]
     },
     "execution_count": 13,
     "metadata": {},
     "output_type": "execute_result"
    }
   ],
   "source": [
    "Query_5 = '''\n",
    "SELECT *\n",
    "FROM drivers_license\n",
    "WHERE plate_number  LIKE '%H42W%';\n",
    "'''\n",
    "pd.read_sql_query(Query_5,conn)"
   ]
  },
  {
   "cell_type": "markdown",
   "id": "b72ff216",
   "metadata": {},
   "source": [
    "Three car's has number plate which includes \"H42W\""
   ]
  },
  {
   "cell_type": "markdown",
   "id": "0772ccd3",
   "metadata": {},
   "source": [
    "Query 6: Personal Details"
   ]
  },
  {
   "cell_type": "code",
   "execution_count": 15,
   "id": "689f1410",
   "metadata": {},
   "outputs": [
    {
     "data": {
      "text/html": [
       "<div>\n",
       "<style scoped>\n",
       "    .dataframe tbody tr th:only-of-type {\n",
       "        vertical-align: middle;\n",
       "    }\n",
       "\n",
       "    .dataframe tbody tr th {\n",
       "        vertical-align: top;\n",
       "    }\n",
       "\n",
       "    .dataframe thead th {\n",
       "        text-align: right;\n",
       "    }\n",
       "</style>\n",
       "<table border=\"1\" class=\"dataframe\">\n",
       "  <thead>\n",
       "    <tr style=\"text-align: right;\">\n",
       "      <th></th>\n",
       "      <th>id</th>\n",
       "      <th>name</th>\n",
       "      <th>license_id</th>\n",
       "      <th>address_number</th>\n",
       "      <th>address_street_name</th>\n",
       "      <th>ssn</th>\n",
       "    </tr>\n",
       "  </thead>\n",
       "  <tbody>\n",
       "    <tr>\n",
       "      <th>0</th>\n",
       "      <td>51739</td>\n",
       "      <td>Tushar Chandra</td>\n",
       "      <td>664760</td>\n",
       "      <td>312</td>\n",
       "      <td>Phi St</td>\n",
       "      <td>137882671</td>\n",
       "    </tr>\n",
       "    <tr>\n",
       "      <th>1</th>\n",
       "      <td>67318</td>\n",
       "      <td>Jeremy Bowers</td>\n",
       "      <td>423327</td>\n",
       "      <td>530</td>\n",
       "      <td>Washington Pl, Apt 3A</td>\n",
       "      <td>871539279</td>\n",
       "    </tr>\n",
       "    <tr>\n",
       "      <th>2</th>\n",
       "      <td>78193</td>\n",
       "      <td>Maxine Whitely</td>\n",
       "      <td>183779</td>\n",
       "      <td>110</td>\n",
       "      <td>Fisk Rd</td>\n",
       "      <td>137882671</td>\n",
       "    </tr>\n",
       "  </tbody>\n",
       "</table>\n",
       "</div>"
      ],
      "text/plain": [
       "      id            name  license_id  address_number    address_street_name  \\\n",
       "0  51739  Tushar Chandra      664760             312                 Phi St   \n",
       "1  67318   Jeremy Bowers      423327             530  Washington Pl, Apt 3A   \n",
       "2  78193  Maxine Whitely      183779             110                Fisk Rd   \n",
       "\n",
       "         ssn  \n",
       "0  137882671  \n",
       "1  871539279  \n",
       "2  137882671  "
      ]
     },
     "execution_count": 15,
     "metadata": {},
     "output_type": "execute_result"
    }
   ],
   "source": [
    "Query_6 = '''\n",
    "SELECT *\n",
    "FROM person\n",
    "WHERE license_id IN (183779, 423327, 664760);\n",
    "'''\n",
    "pd.read_sql_query(Query_6,conn)"
   ]
  },
  {
   "cell_type": "markdown",
   "id": "7373c2cc",
   "metadata": {},
   "source": [
    "Retrived the personal details of car owners"
   ]
  },
  {
   "cell_type": "markdown",
   "id": "6b7c60da",
   "metadata": {},
   "source": [
    "Query 7: Membership status at the Gym"
   ]
  },
  {
   "cell_type": "code",
   "execution_count": 16,
   "id": "7f536beb",
   "metadata": {},
   "outputs": [
    {
     "data": {
      "text/html": [
       "<div>\n",
       "<style scoped>\n",
       "    .dataframe tbody tr th:only-of-type {\n",
       "        vertical-align: middle;\n",
       "    }\n",
       "\n",
       "    .dataframe tbody tr th {\n",
       "        vertical-align: top;\n",
       "    }\n",
       "\n",
       "    .dataframe thead th {\n",
       "        text-align: right;\n",
       "    }\n",
       "</style>\n",
       "<table border=\"1\" class=\"dataframe\">\n",
       "  <thead>\n",
       "    <tr style=\"text-align: right;\">\n",
       "      <th></th>\n",
       "      <th>id</th>\n",
       "      <th>person_id</th>\n",
       "      <th>name</th>\n",
       "      <th>membership_start_date</th>\n",
       "      <th>membership_status</th>\n",
       "    </tr>\n",
       "  </thead>\n",
       "  <tbody>\n",
       "    <tr>\n",
       "      <th>0</th>\n",
       "      <td>48Z55</td>\n",
       "      <td>67318</td>\n",
       "      <td>Jeremy Bowers</td>\n",
       "      <td>20160101</td>\n",
       "      <td>gold</td>\n",
       "    </tr>\n",
       "  </tbody>\n",
       "</table>\n",
       "</div>"
      ],
      "text/plain": [
       "      id  person_id           name  membership_start_date membership_status\n",
       "0  48Z55      67318  Jeremy Bowers               20160101              gold"
      ]
     },
     "execution_count": 16,
     "metadata": {},
     "output_type": "execute_result"
    }
   ],
   "source": [
    "Query_7 = '''\n",
    "SELECT *\n",
    "FROM get_fit_now_member\n",
    "WHERE person_id IN (51739,67318,78193);\n",
    "'''\n",
    "pd.read_sql_query(Query_7,conn)"
   ]
  },
  {
   "cell_type": "markdown",
   "id": "349b65cd",
   "metadata": {},
   "source": [
    "Discovered the murderer: \"Jeremy Bowers\""
   ]
  },
  {
   "cell_type": "code",
   "execution_count": 18,
   "id": "4a290452",
   "metadata": {},
   "outputs": [
    {
     "name": "stdout",
     "output_type": "stream",
     "text": [
      "   person_id                                         transcript\n",
      "0      67318  I was hired by a woman with a lot of money. I ...\n"
     ]
    }
   ],
   "source": [
    "# Reading the transcript of the murderer from the interview\n",
    "query_8 = '''\n",
    "SELECT *\n",
    "FROM interview\n",
    "WHERE person_id = \"67318\";\n",
    "'''\n",
    "\n",
    "\n",
    "murderer_transcript = pd.read_sql_query(query_8, conn)\n",
    "print(murderer_transcript)"
   ]
  },
  {
   "cell_type": "markdown",
   "id": "1d43febe",
   "metadata": {},
   "source": [
    "Interviewed the murderer and discovered that a mastermind was hiding behind him \n",
    "Hints:\n",
    "1.Gender: female\n",
    "2.Hair_color: red\n",
    "3.Height between 65 and 67\n",
    "4.Car make: Tesla\n",
    "5.Car_model: Model S\n",
    "6.Attended facebook event 'Symphony Concert' 3 times in December 2017"
   ]
  },
  {
   "cell_type": "code",
   "execution_count": 19,
   "id": "ffa2c469",
   "metadata": {},
   "outputs": [
    {
     "data": {
      "text/html": [
       "<div>\n",
       "<style scoped>\n",
       "    .dataframe tbody tr th:only-of-type {\n",
       "        vertical-align: middle;\n",
       "    }\n",
       "\n",
       "    .dataframe tbody tr th {\n",
       "        vertical-align: top;\n",
       "    }\n",
       "\n",
       "    .dataframe thead th {\n",
       "        text-align: right;\n",
       "    }\n",
       "</style>\n",
       "<table border=\"1\" class=\"dataframe\">\n",
       "  <thead>\n",
       "    <tr style=\"text-align: right;\">\n",
       "      <th></th>\n",
       "      <th>id</th>\n",
       "      <th>name</th>\n",
       "      <th>license_id</th>\n",
       "      <th>address_number</th>\n",
       "      <th>address_street_name</th>\n",
       "      <th>ssn</th>\n",
       "      <th>car_make</th>\n",
       "      <th>car_model</th>\n",
       "      <th>hair_color</th>\n",
       "      <th>height</th>\n",
       "    </tr>\n",
       "  </thead>\n",
       "  <tbody>\n",
       "    <tr>\n",
       "      <th>0</th>\n",
       "      <td>99716</td>\n",
       "      <td>Miranda Priestly</td>\n",
       "      <td>202298</td>\n",
       "      <td>1883</td>\n",
       "      <td>Golden Ave</td>\n",
       "      <td>987756388</td>\n",
       "      <td>Tesla</td>\n",
       "      <td>Model S</td>\n",
       "      <td>red</td>\n",
       "      <td>66</td>\n",
       "    </tr>\n",
       "    <tr>\n",
       "      <th>1</th>\n",
       "      <td>99716</td>\n",
       "      <td>Miranda Priestly</td>\n",
       "      <td>202298</td>\n",
       "      <td>1883</td>\n",
       "      <td>Golden Ave</td>\n",
       "      <td>987756388</td>\n",
       "      <td>Tesla</td>\n",
       "      <td>Model S</td>\n",
       "      <td>red</td>\n",
       "      <td>66</td>\n",
       "    </tr>\n",
       "    <tr>\n",
       "      <th>2</th>\n",
       "      <td>99716</td>\n",
       "      <td>Miranda Priestly</td>\n",
       "      <td>202298</td>\n",
       "      <td>1883</td>\n",
       "      <td>Golden Ave</td>\n",
       "      <td>987756388</td>\n",
       "      <td>Tesla</td>\n",
       "      <td>Model S</td>\n",
       "      <td>red</td>\n",
       "      <td>66</td>\n",
       "    </tr>\n",
       "  </tbody>\n",
       "</table>\n",
       "</div>"
      ],
      "text/plain": [
       "      id              name  license_id  address_number address_street_name  \\\n",
       "0  99716  Miranda Priestly      202298            1883          Golden Ave   \n",
       "1  99716  Miranda Priestly      202298            1883          Golden Ave   \n",
       "2  99716  Miranda Priestly      202298            1883          Golden Ave   \n",
       "\n",
       "         ssn car_make car_model hair_color  height  \n",
       "0  987756388    Tesla   Model S        red      66  \n",
       "1  987756388    Tesla   Model S        red      66  \n",
       "2  987756388    Tesla   Model S        red      66  "
      ]
     },
     "execution_count": 19,
     "metadata": {},
     "output_type": "execute_result"
    }
   ],
   "source": [
    "Query_8_2 = '''\n",
    "SELECT p.*, dl.car_make, dl.car_model,dl.hair_color, dl.height\n",
    "FROM person as p\n",
    "INNER JOIN drivers_license as dl on dl.id = p.license_id\n",
    "INNER JOIN facebook_event_checkin as fb_event on p.id = fb_event.person_id\n",
    "WHERE car_make = 'Tesla' AND car_model = 'Model S' AND hair_color = 'red' AND height BETWEEN 65 AND 67;\n",
    "'''\n",
    "pd.read_sql_query(Query_8_2,conn)"
   ]
  },
  {
   "cell_type": "markdown",
   "id": "520a9e2a",
   "metadata": {},
   "source": [
    "Found the Mastermind behind this murder: \"Miranda Priestly\""
   ]
  },
  {
   "cell_type": "code",
   "execution_count": 20,
   "id": "8486969e",
   "metadata": {},
   "outputs": [
    {
     "name": "stdout",
     "output_type": "stream",
     "text": [
      "You've been tirelessly investigating the case for weeks.\n",
      "Suddenly, a revelation is on the horizon...\n",
      "Press Enter to continue...\n",
      "The room plunges into darkness as a mysterious figure steps forward.\n",
      "It's Miranda Priestly, the mastermind you never suspected!\n",
      "Miranda: 'You believed you were in control, but little did you know, you were just a pawn.'\n",
      "As Miranda unveils her nefarious plans, the true extent of the conspiracy becomes clear.\n",
      "In the final showdown, justice prevails, and the enigma is ultimately unraveled.\n",
      "The end.\n"
     ]
    }
   ],
   "source": [
    "print(\"You've been tirelessly investigating the case for weeks.\")\n",
    "print(\"Suddenly, a revelation is on the horizon...\")\n",
    "\n",
    "# Pause for dramatic effect\n",
    "input(\"Press Enter to continue...\")\n",
    "\n",
    "print(\"The room plunges into darkness as a mysterious figure steps forward.\")\n",
    "print(\"It's Miranda Priestly, the mastermind you never suspected!\")\n",
    "\n",
    "# Continue the story\n",
    "print(\"Miranda: 'You believed you were in control, but little did you know, you were just a pawn.'\")\n",
    "print(\"As Miranda unveils her nefarious plans, the true extent of the conspiracy becomes clear.\")\n",
    "\n",
    "# Conclude the story\n",
    "print(\"In the final showdown, justice prevails, and the enigma is ultimately unraveled.\")\n",
    "print(\"The end.\")\n"
   ]
  },
  {
   "cell_type": "code",
   "execution_count": null,
   "id": "9a9e35e9",
   "metadata": {},
   "outputs": [],
   "source": []
  }
 ],
 "metadata": {
  "kernelspec": {
   "display_name": "Python 3 (ipykernel)",
   "language": "python",
   "name": "python3"
  },
  "language_info": {
   "codemirror_mode": {
    "name": "ipython",
    "version": 3
   },
   "file_extension": ".py",
   "mimetype": "text/x-python",
   "name": "python",
   "nbconvert_exporter": "python",
   "pygments_lexer": "ipython3",
   "version": "3.11.5"
  }
 },
 "nbformat": 4,
 "nbformat_minor": 5
}
